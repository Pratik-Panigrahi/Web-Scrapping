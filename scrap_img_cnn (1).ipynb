{
  "nbformat": 4,
  "nbformat_minor": 0,
  "metadata": {
    "colab": {
      "name": "scrap_img_cnn.ipynb",
      "provenance": [],
      "collapsed_sections": []
    },
    "kernelspec": {
      "name": "python3",
      "display_name": "Python 3"
    },
    "accelerator": "GPU"
  },
  "cells": [
    {
      "cell_type": "code",
      "metadata": {
        "id": "p8dT2qmrmSe0",
        "colab_type": "code",
        "colab": {
          "base_uri": "https://localhost:8080/",
          "height": 122
        },
        "outputId": "aad7084a-7592-4cd8-d42f-852144a1a09b"
      },
      "source": [
        "from google.colab import drive\n",
        "drive.mount('/content/gdrive')"
      ],
      "execution_count": null,
      "outputs": [
        {
          "output_type": "stream",
          "text": [
            "Go to this URL in a browser: https://accounts.google.com/o/oauth2/auth?client_id=947318989803-6bn6qk8qdgf4n4g3pfee6491hc0brc4i.apps.googleusercontent.com&redirect_uri=urn%3aietf%3awg%3aoauth%3a2.0%3aoob&response_type=code&scope=email%20https%3a%2f%2fwww.googleapis.com%2fauth%2fdocs.test%20https%3a%2f%2fwww.googleapis.com%2fauth%2fdrive%20https%3a%2f%2fwww.googleapis.com%2fauth%2fdrive.photos.readonly%20https%3a%2f%2fwww.googleapis.com%2fauth%2fpeopleapi.readonly\n",
            "\n",
            "Enter your authorization code:\n",
            "··········\n",
            "Mounted at /content/gdrive\n"
          ],
          "name": "stdout"
        }
      ]
    },
    {
      "cell_type": "code",
      "metadata": {
        "id": "KOw2sITI1H7V",
        "colab_type": "code",
        "colab": {
          "base_uri": "https://localhost:8080/",
          "height": 51
        },
        "outputId": "338ce729-ff8b-4c5a-c416-d48ef464e30a"
      },
      "source": [
        "%tensorflow_version 1.x\n",
        "import tensorflow as tf\n",
        "print(tf.__version__)"
      ],
      "execution_count": null,
      "outputs": [
        {
          "output_type": "stream",
          "text": [
            "TensorFlow 1.x selected.\n",
            "1.15.2\n"
          ],
          "name": "stdout"
        }
      ]
    },
    {
      "cell_type": "code",
      "metadata": {
        "id": "XNOZ9Uar1OwQ",
        "colab_type": "code",
        "colab": {
          "base_uri": "https://localhost:8080/",
          "height": 34
        },
        "outputId": "ab299436-00c2-4817-d531-4550334afe98"
      },
      "source": [
        "from keras.preprocessing.image import ImageDataGenerator, load_img\n",
        "from keras.models import Sequential\n",
        "from keras.layers import Conv2D, MaxPooling2D\n",
        "from keras.layers import Activation, Dropout, Flatten, Dense\n",
        "from keras import backend as K\n",
        "from keras import optimizers\n",
        "import scipy\n",
        "\n",
        "\n",
        "from keras.models import load_model\n",
        "from keras.preprocessing import image\n",
        "import numpy as np\n",
        "from os import listdir\n",
        "from os.path import isfile, join"
      ],
      "execution_count": null,
      "outputs": [
        {
          "output_type": "stream",
          "text": [
            "Using TensorFlow backend.\n"
          ],
          "name": "stderr"
        }
      ]
    },
    {
      "cell_type": "code",
      "metadata": {
        "id": "em46aEzg25-6",
        "colab_type": "code",
        "colab": {}
      },
      "source": [
        "input_shape=(150,150,3)\n",
        "img_width=150\n",
        "img_height=150\n",
        "\n",
        "\n",
        "nb_train_samples=2000\n",
        "nb_validation_samples=1000\n",
        "batch_size=32\n",
        "epochs=10\n",
        "\n",
        "train_data_dir='/content/drive/My Drive/Colab Notebooks/scrap_img/train'\n",
        "validation_data_dir='/content/drive/My Drive/Colab Notebooks/scrap_img/test'"
      ],
      "execution_count": null,
      "outputs": []
    },
    {
      "cell_type": "code",
      "metadata": {
        "id": "M6tAm-aG6qT3",
        "colab_type": "code",
        "colab": {
          "base_uri": "https://localhost:8080/",
          "height": 51
        },
        "outputId": "9b11804c-6ec5-4b10-be2e-d83043ae4a2d"
      },
      "source": [
        "#rescaling data\n",
        "datagen=ImageDataGenerator(rescale=1./255)\n",
        "\n",
        "train_generator=datagen.flow_from_directory(\n",
        "         train_data_dir,\n",
        "         target_size=(img_width,img_height),\n",
        "         batch_size=8,\n",
        "         class_mode='categorical')\n",
        "\n",
        "validation_generator=datagen.flow_from_directory(\n",
        "         validation_data_dir,\n",
        "         target_size=(img_width,img_height),\n",
        "         batch_size=16,\n",
        "         class_mode='categorical')\n"
      ],
      "execution_count": null,
      "outputs": [
        {
          "output_type": "stream",
          "text": [
            "Found 308 images belonging to 3 classes.\n",
            "Found 82 images belonging to 3 classes.\n"
          ],
          "name": "stdout"
        }
      ]
    },
    {
      "cell_type": "code",
      "metadata": {
        "id": "Orv-v7DSBhg4",
        "colab_type": "code",
        "colab": {}
      },
      "source": [
        "#model building\n",
        "model = Sequential()\n",
        "model.add(Conv2D(32, (3, 3), input_shape=input_shape))\n",
        "model.add(Activation('relu'))\n",
        "model.add(MaxPooling2D(pool_size=(2, 2)))\n",
        "model.add(Dropout(0.2))\n",
        "\n",
        "model.add(Conv2D(32, (3, 3)))\n",
        "model.add(Activation('relu'))\n",
        "model.add(MaxPooling2D(pool_size=(2, 2)))\n",
        "model.add(Dropout(0.2))\n",
        "\n",
        "model.add(Conv2D(64, (3, 3)))\n",
        "model.add(Activation('relu'))\n",
        "model.add(MaxPooling2D(pool_size=(2, 2)))\n",
        "model.add(Dropout(0.2))\n",
        "\n",
        "#flatten layer\n",
        "model.add(Flatten()) # Output convert into one dimension layer and will go to Dense layer\n",
        "model.add(Dense(64))\n",
        "model.add(Activation('relu'))\n",
        "model.add(Dropout(0.5))\n",
        "model.add(Dense(1))\n",
        "model.add(Dense(3, activation='softmax'))"
      ],
      "execution_count": null,
      "outputs": []
    },
    {
      "cell_type": "code",
      "metadata": {
        "id": "a572GGyvBJZZ",
        "colab_type": "code",
        "colab": {
          "base_uri": "https://localhost:8080/",
          "height": 765
        },
        "outputId": "bdd5f64d-44ed-4366-f9b7-dfcc48cc20df"
      },
      "source": [
        "model.summary()"
      ],
      "execution_count": null,
      "outputs": [
        {
          "output_type": "stream",
          "text": [
            "Model: \"sequential_1\"\n",
            "_________________________________________________________________\n",
            "Layer (type)                 Output Shape              Param #   \n",
            "=================================================================\n",
            "conv2d_1 (Conv2D)            (None, 148, 148, 32)      896       \n",
            "_________________________________________________________________\n",
            "activation_1 (Activation)    (None, 148, 148, 32)      0         \n",
            "_________________________________________________________________\n",
            "max_pooling2d_1 (MaxPooling2 (None, 74, 74, 32)        0         \n",
            "_________________________________________________________________\n",
            "dropout_1 (Dropout)          (None, 74, 74, 32)        0         \n",
            "_________________________________________________________________\n",
            "conv2d_2 (Conv2D)            (None, 72, 72, 32)        9248      \n",
            "_________________________________________________________________\n",
            "activation_2 (Activation)    (None, 72, 72, 32)        0         \n",
            "_________________________________________________________________\n",
            "max_pooling2d_2 (MaxPooling2 (None, 36, 36, 32)        0         \n",
            "_________________________________________________________________\n",
            "dropout_2 (Dropout)          (None, 36, 36, 32)        0         \n",
            "_________________________________________________________________\n",
            "conv2d_3 (Conv2D)            (None, 34, 34, 64)        18496     \n",
            "_________________________________________________________________\n",
            "activation_3 (Activation)    (None, 34, 34, 64)        0         \n",
            "_________________________________________________________________\n",
            "max_pooling2d_3 (MaxPooling2 (None, 17, 17, 64)        0         \n",
            "_________________________________________________________________\n",
            "dropout_3 (Dropout)          (None, 17, 17, 64)        0         \n",
            "_________________________________________________________________\n",
            "flatten_1 (Flatten)          (None, 18496)             0         \n",
            "_________________________________________________________________\n",
            "dense_1 (Dense)              (None, 64)                1183808   \n",
            "_________________________________________________________________\n",
            "activation_4 (Activation)    (None, 64)                0         \n",
            "_________________________________________________________________\n",
            "dropout_4 (Dropout)          (None, 64)                0         \n",
            "_________________________________________________________________\n",
            "dense_2 (Dense)              (None, 1)                 65        \n",
            "_________________________________________________________________\n",
            "dense_3 (Dense)              (None, 3)                 6         \n",
            "=================================================================\n",
            "Total params: 1,212,519\n",
            "Trainable params: 1,212,519\n",
            "Non-trainable params: 0\n",
            "_________________________________________________________________\n"
          ],
          "name": "stdout"
        }
      ]
    },
    {
      "cell_type": "code",
      "metadata": {
        "id": "tU88KmlDBK6n",
        "colab_type": "code",
        "colab": {}
      },
      "source": [
        "from keras.optimizers import Adam\n",
        "opt = Adam(lr=0.001)\n",
        "model.compile(optimizer=opt, loss='categorical_crossentropy', metrics=['accuracy'])"
      ],
      "execution_count": null,
      "outputs": []
    },
    {
      "cell_type": "code",
      "metadata": {
        "id": "607IiULJGZau",
        "colab_type": "code",
        "colab": {}
      },
      "source": [
        "#augmentation\n",
        "train_datagen_augmenteted=ImageDataGenerator(\n",
        "       rescale=1./255,\n",
        "       shear_range=0.2,\n",
        "       zoom_range=0.2,\n",
        "       rotation_range=30,\n",
        "       horizontal_flip=True)"
      ],
      "execution_count": null,
      "outputs": []
    },
    {
      "cell_type": "code",
      "metadata": {
        "colab_type": "code",
        "id": "Yr7pXFpjIKw5",
        "colab": {
          "base_uri": "https://localhost:8080/",
          "height": 34
        },
        "outputId": "b4acbfc5-2be2-4071-d3ef-77eb3c8fb8d5"
      },
      "source": [
        "train_datagen_augmenteted=train_datagen_augmenteted.flow_from_directory(\n",
        "                train_data_dir,\n",
        "                target_size=(img_width,img_height),\n",
        "                batch_size=8,\n",
        "               class_mode='categorical',)"
      ],
      "execution_count": null,
      "outputs": [
        {
          "output_type": "stream",
          "text": [
            "Found 308 images belonging to 3 classes.\n"
          ],
          "name": "stdout"
        }
      ]
    },
    {
      "cell_type": "code",
      "metadata": {
        "id": "9rvX1Jj5JgPg",
        "colab_type": "code",
        "colab": {
          "base_uri": "https://localhost:8080/",
          "height": 357
        },
        "outputId": "ffc78463-270c-4c97-8c7e-816daf91d6e5"
      },
      "source": [
        "history=model.fit_generator(\n",
        "    train_generator,\n",
        "    steps_per_epoch=nb_train_samples//batch_size,\n",
        "    epochs=epochs,\n",
        "    validation_data=validation_generator,\n",
        "    validation_steps=nb_validation_samples//batch_size)"
      ],
      "execution_count": null,
      "outputs": [
        {
          "output_type": "stream",
          "text": [
            "Epoch 1/10\n",
            "62/62 [==============================] - 250s 4s/step - loss: 0.9109 - accuracy: 0.5225 - val_loss: 0.9296 - val_accuracy: 0.6455\n",
            "Epoch 2/10\n",
            "62/62 [==============================] - 4s 57ms/step - loss: 0.6023 - accuracy: 0.6768 - val_loss: 0.4865 - val_accuracy: 0.6854\n",
            "Epoch 3/10\n",
            "62/62 [==============================] - 4s 57ms/step - loss: 0.5247 - accuracy: 0.7480 - val_loss: 0.3804 - val_accuracy: 0.7606\n",
            "Epoch 4/10\n",
            "62/62 [==============================] - 4s 59ms/step - loss: 0.4692 - accuracy: 0.8074 - val_loss: 0.4382 - val_accuracy: 0.7559\n",
            "Epoch 5/10\n",
            "62/62 [==============================] - 3s 56ms/step - loss: 0.4681 - accuracy: 0.8258 - val_loss: 0.5715 - val_accuracy: 0.7535\n",
            "Epoch 6/10\n",
            "62/62 [==============================] - 4s 63ms/step - loss: 0.4846 - accuracy: 0.8496 - val_loss: 0.4336 - val_accuracy: 0.6966\n",
            "Epoch 7/10\n",
            "62/62 [==============================] - 4s 58ms/step - loss: 0.4694 - accuracy: 0.8053 - val_loss: 0.4295 - val_accuracy: 0.7488\n",
            "Epoch 8/10\n",
            "62/62 [==============================] - 4s 58ms/step - loss: 0.4056 - accuracy: 0.8841 - val_loss: 0.5236 - val_accuracy: 0.8545\n",
            "Epoch 9/10\n",
            "62/62 [==============================] - 4s 59ms/step - loss: 0.4391 - accuracy: 0.8730 - val_loss: 0.4241 - val_accuracy: 0.8239\n",
            "Epoch 10/10\n",
            "62/62 [==============================] - 3s 56ms/step - loss: 0.4111 - accuracy: 0.8852 - val_loss: 0.4846 - val_accuracy: 0.8310\n"
          ],
          "name": "stdout"
        }
      ]
    },
    {
      "cell_type": "code",
      "metadata": {
        "id": "kyvQhyquVLEL",
        "colab_type": "code",
        "colab": {
          "base_uri": "https://localhost:8080/",
          "height": 573
        },
        "outputId": "1ad3264a-b181-40b5-cdcb-15d0130ff8de"
      },
      "source": [
        "# Plot training & validation accuracy values\n",
        "import matplotlib.pyplot as plt\n",
        "%matplotlib inline\n",
        "plt.plot(history.history['accuracy'])\n",
        "plt.plot(history.history['val_accuracy'])\n",
        "plt.title('Model accuracy')\n",
        "plt.ylabel('Accuracy')\n",
        "plt.xlabel('Epoch')\n",
        "pyplot.legend(['Train', 'Val'], loc='upper left')\n",
        "pyplot.show()\n",
        "\n",
        "# Plot training & validation loss values\n",
        "pyplot.plot(history.history['loss'])\n",
        "pyplot.plot(history.history['val_loss'])\n",
        "pyplot.title('Model loss')\n",
        "pyplot.ylabel('Loss')\n",
        "pyplot.xlabel('Epoch')\n",
        "pyplot.legend(['Train', 'Val'], loc='upper left')\n",
        "pyplot.show()"
      ],
      "execution_count": null,
      "outputs": [
        {
          "output_type": "display_data",
          "data": {
            "image/png": "[encoded data removed]",
            "text/plain": [
              "<Figure size 432x288 with 1 Axes>"
            ]
          },
          "metadata": {
            "tags": [],
            "needs_background": "light"
          }
        },
        {
          "output_type": "display_data",
          "data": {
            "image/png": "[encoded data removed]",
            "text/plain": [
              "<Figure size 432x288 with 1 Axes>"
            ]
          },
          "metadata": {
            "tags": [],
            "needs_background": "light"
          }
        }
      ]
    },
    {
      "cell_type": "code",
      "metadata": {
        "id": "abYsAhlFY3I9",
        "colab_type": "code",
        "colab": {}
      },
      "source": [
        ""
      ],
      "execution_count": null,
      "outputs": []
    },
    {
      "cell_type": "markdown",
      "metadata": {
        "id": "kTg4Sn4ubEjM",
        "colab_type": "text"
      },
      "source": [
        "Approach 2"
      ]
    },
    {
      "cell_type": "code",
      "metadata": {
        "id": "K6FbYn5LbH5m",
        "colab_type": "code",
        "colab": {}
      },
      "source": [
        "#model building\n",
        "model = Sequential()\n",
        "model.add(Conv2D(32, (3, 3), input_shape=input_shape))\n",
        "model.add(Activation('relu'))\n",
        "model.add(MaxPooling2D(pool_size=(2, 2)))\n",
        "model.add(Dropout(0.2))\n",
        "\n",
        "model.add(Conv2D(64, (3, 3)))\n",
        "model.add(Activation('relu'))\n",
        "model.add(MaxPooling2D(pool_size=(2, 2)))\n",
        "model.add(Dropout(0.2))\n",
        "\n",
        "model.add(Conv2D(64, (3, 3)))\n",
        "model.add(Activation('relu'))\n",
        "model.add(MaxPooling2D(pool_size=(2, 2)))\n",
        "model.add(Dropout(0.2))\n",
        "\n",
        "#flatten layer\n",
        "model.add(Flatten()) # Output convert into one dimension layer and will go to Dense layer\n",
        "model.add(Dense(64, activation='relu', kernel_initializer='he_uniform'))\n",
        "model.add(Dropout(0.4))\n",
        "model.add(Dense(3, activation='softmax'))"
      ],
      "execution_count": null,
      "outputs": []
    },
    {
      "cell_type": "code",
      "metadata": {
        "id": "ZazkWCM9bwIL",
        "colab_type": "code",
        "colab": {}
      },
      "source": [
        "from keras.optimizers import Adam\n",
        "opt = Adam(lr=0.001)\n",
        "model.compile(optimizer=opt, loss='categorical_crossentropy', metrics=['accuracy'])\n",
        "#model saving\n",
        "model.save('variation_dropout.h5')"
      ],
      "execution_count": null,
      "outputs": []
    },
    {
      "cell_type": "code",
      "metadata": {
        "id": "QrWPYEhbcQv8",
        "colab_type": "code",
        "colab": {}
      },
      "source": [
        "#augmentation\n",
        "train_datagen_augmenteted=ImageDataGenerator(\n",
        "       rescale=1./255,\n",
        "       shear_range=0.2,\n",
        "       zoom_range=0.2,\n",
        "       rotation_range=30,\n",
        "       horizontal_flip=True)"
      ],
      "execution_count": null,
      "outputs": []
    },
    {
      "cell_type": "code",
      "metadata": {
        "id": "J7rbBwUYcX_J",
        "colab_type": "code",
        "colab": {
          "base_uri": "https://localhost:8080/",
          "height": 34
        },
        "outputId": "af3fe858-e8e4-49a4-e946-60c3c1232915"
      },
      "source": [
        "train_datagen_augmenteted=train_datagen_augmenteted.flow_from_directory(\n",
        "                train_data_dir,\n",
        "                target_size=(img_width,img_height),\n",
        "                batch_size=8,\n",
        "               class_mode='categorical',)"
      ],
      "execution_count": null,
      "outputs": [
        {
          "output_type": "stream",
          "text": [
            "Found 308 images belonging to 3 classes.\n"
          ],
          "name": "stdout"
        }
      ]
    },
    {
      "cell_type": "code",
      "metadata": {
        "id": "rpZSeIhboZ0f",
        "colab_type": "code",
        "colab": {}
      },
      "source": [
        "checkpoint = ModelCheckpoint(\"variation_dropout.h5\", monitor='val_accuracy', verbose=1, save_best_only=True, save_weights_only=False, mode='auto', period=1)\n",
        "early = EarlyStopping(monitor='val_accuracy', min_delta=0, patience=5, verbose=1, mode='auto')"
      ],
      "execution_count": null,
      "outputs": []
    },
    {
      "cell_type": "code",
      "metadata": {
        "id": "HQ4s_fnPccOK",
        "colab_type": "code",
        "colab": {
          "base_uri": "https://localhost:8080/",
          "height": 697
        },
        "outputId": "2792397c-e4cd-4143-e0ed-ef33f7864e95"
      },
      "source": [
        "from keras.callbacks import ModelCheckpoint, EarlyStopping\n",
        "history=model.fit_generator(\n",
        "    train_generator,\n",
        "    steps_per_epoch=nb_train_samples//batch_size,\n",
        "    epochs=epochs,\n",
        "    validation_data=validation_generator,\n",
        "    validation_steps=nb_validation_samples//batch_size,\n",
        "    callbacks=[checkpoint,early])"
      ],
      "execution_count": null,
      "outputs": [
        {
          "output_type": "stream",
          "text": [
            "Epoch 1/10\n",
            "62/62 [==============================] - 4s 64ms/step - loss: 0.1609 - accuracy: 0.9447 - val_loss: 0.3610 - val_accuracy: 0.8427\n",
            "\n",
            "Epoch 00001: val_accuracy did not improve from 0.85437\n",
            "Epoch 2/10\n",
            "62/62 [==============================] - 4s 59ms/step - loss: 0.0821 - accuracy: 0.9736 - val_loss: 0.5353 - val_accuracy: 0.8521\n",
            "\n",
            "Epoch 00002: val_accuracy did not improve from 0.85437\n",
            "Epoch 3/10\n",
            "62/62 [==============================] - 4s 57ms/step - loss: 0.1060 - accuracy: 0.9570 - val_loss: 1.1275 - val_accuracy: 0.8028\n",
            "\n",
            "Epoch 00003: val_accuracy did not improve from 0.85437\n",
            "Epoch 4/10\n",
            "62/62 [==============================] - 4s 61ms/step - loss: 0.0988 - accuracy: 0.9533 - val_loss: 0.2118 - val_accuracy: 0.8333\n",
            "\n",
            "Epoch 00004: val_accuracy did not improve from 0.85437\n",
            "Epoch 5/10\n",
            "62/62 [==============================] - 3s 56ms/step - loss: 0.0639 - accuracy: 0.9675 - val_loss: 0.1598 - val_accuracy: 0.8404\n",
            "\n",
            "Epoch 00005: val_accuracy did not improve from 0.85437\n",
            "Epoch 6/10\n",
            "62/62 [==============================] - 4s 63ms/step - loss: 0.0511 - accuracy: 0.9773 - val_loss: 5.3701e-05 - val_accuracy: 0.8665\n",
            "\n",
            "Epoch 00006: val_accuracy improved from 0.85437 to 0.86650, saving model to variation_dropout.h5\n",
            "Epoch 7/10\n",
            "62/62 [==============================] - 4s 58ms/step - loss: 0.0603 - accuracy: 0.9695 - val_loss: 0.1751 - val_accuracy: 0.8920\n",
            "\n",
            "Epoch 00007: val_accuracy improved from 0.86650 to 0.89202, saving model to variation_dropout.h5\n",
            "Epoch 8/10\n",
            "62/62 [==============================] - 4s 58ms/step - loss: 0.1188 - accuracy: 0.9631 - val_loss: 0.6434 - val_accuracy: 0.8075\n",
            "\n",
            "Epoch 00008: val_accuracy did not improve from 0.89202\n",
            "Epoch 9/10\n",
            "62/62 [==============================] - 4s 59ms/step - loss: 0.0632 - accuracy: 0.9817 - val_loss: 0.1978 - val_accuracy: 0.8685\n",
            "\n",
            "Epoch 00009: val_accuracy did not improve from 0.89202\n",
            "Epoch 10/10\n",
            "62/62 [==============================] - 4s 57ms/step - loss: 0.0450 - accuracy: 0.9836 - val_loss: 0.9616 - val_accuracy: 0.8498\n",
            "\n",
            "Epoch 00010: val_accuracy did not improve from 0.89202\n"
          ],
          "name": "stdout"
        }
      ]
    },
    {
      "cell_type": "code",
      "metadata": {
        "id": "DctFgkIucixA",
        "colab_type": "code",
        "colab": {
          "base_uri": "https://localhost:8080/",
          "height": 573
        },
        "outputId": "1f2f652d-8167-4a37-e67f-2220e844d145"
      },
      "source": [
        "# Plot training & validation accuracy values\n",
        "import matplotlib.pyplot as plt\n",
        "%matplotlib inline\n",
        "plt.plot(history.history['accuracy'])\n",
        "plt.plot(history.history['val_accuracy'])\n",
        "plt.title('Model accuracy')\n",
        "plt.ylabel('Accuracy')\n",
        "plt.xlabel('Epoch')\n",
        "plt.legend(['Train', 'Val'], loc='upper left')\n",
        "plt.show()\n",
        "\n",
        "# Plot training & validation loss values\n",
        "plt.plot(history.history['loss'])\n",
        "plt.plot(history.history['val_loss'])\n",
        "plt.title('Model loss')\n",
        "plt.ylabel('Loss')\n",
        "plt.xlabel('Epoch')\n",
        "plt.legend(['Train', 'Val'], loc='upper left')\n",
        "plt.show()"
      ],
      "execution_count": null,
      "outputs": [
        {
          "output_type": "display_data",
          "data": {
            "image/png": "[encoded data removed]",
            "text/plain": [
              "<Figure size 432x288 with 1 Axes>"
            ]
          },
          "metadata": {
            "tags": [],
            "needs_background": "light"
          }
        },
        {
          "output_type": "display_data",
          "data": {
            "image/png": "[encoded data removed]",
            "text/plain": [
              "<Figure size 432x288 with 1 Axes>"
            ]
          },
          "metadata": {
            "tags": [],
            "needs_background": "light"
          }
        }
      ]
    }
  ]
}